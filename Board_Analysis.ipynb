{
 "cells": [
  {
   "cell_type": "code",
   "execution_count": 15,
   "metadata": {},
   "outputs": [],
   "source": [
    "from board import Board, Action, read_board_from_file\n",
    "from candy import Candy\n",
    "\n",
    "ID_TO_TYPE = {0:'normal',1:'raye_hor',2:'raye_ver',3:'sachet',4:'disco',5:'empty'}"
   ]
  },
  {
   "cell_type": "code",
   "execution_count": 4,
   "metadata": {},
   "outputs": [],
   "source": [
    "board_1 = read_board_from_file(\"copied_board_1.txt\")\n",
    "board_2 = read_board_from_file(\"copied_board_2.txt\")\n",
    "board_3 = read_board_from_file(\"copied_board_3.txt\")\n"
   ]
  },
  {
   "cell_type": "code",
   "execution_count": 8,
   "metadata": {},
   "outputs": [
    {
     "name": "stdout",
     "output_type": "stream",
     "text": [
      "|4 2 5 1 5 6 4|\n",
      "|1 4 2 4 4 6 3|\n",
      "|1 4 1 3 1 1 2|\n",
      "|3 1 1 3 5 4 3|\n",
      "|6 3 2 4 2 3 2|\n",
      "|5 2 4 3 1 2 3|\n",
      "|5 4 5 2 2 6 1|\n",
      "\n"
     ]
    },
    {
     "data": {
      "text/plain": [
       "'0x12d29b76f4b4db8779d70529ae04cf535b07cb12eb3a11f78c6618dd7e383bc371e47d82045a8283ba'"
      ]
     },
     "execution_count": 8,
     "metadata": {},
     "output_type": "execute_result"
    }
   ],
   "source": [
    "board_1.display()\n",
    "hex(board_1.state())"
   ]
  },
  {
   "cell_type": "code",
   "execution_count": 10,
   "metadata": {},
   "outputs": [
    {
     "name": "stdout",
     "output_type": "stream",
     "text": [
      "|4 2 5 1 2 3 1|\n",
      "|1 4 2 4 5 6 4|\n",
      "|1 4 1 3 4 6 3|\n",
      "|3 1 1 3 1 1 2|\n",
      "|6 3 2 4 5 4 3|\n",
      "|5 2 4 3 1 3 3|\n",
      "|5 4 5 2 2 6 1|\n",
      "\n"
     ]
    },
    {
     "data": {
      "text/plain": [
       "'0x12d29b7493626b7eb79439a769dabd556b5ff90e976e29afba6e7152321844cc1c8223738bd80c83ba'"
      ]
     },
     "execution_count": 10,
     "metadata": {},
     "output_type": "execute_result"
    }
   ],
   "source": [
    "board_2.display()\n",
    "hex(board_2.state())"
   ]
  },
  {
   "cell_type": "code",
   "execution_count": null,
   "metadata": {},
   "outputs": [],
   "source": [
    "def get_board_from_state(state):\n",
    "    board = Board()\n",
    "    board.set_state(state)\n",
    "    return board"
   ]
  },
  {
   "cell_type": "code",
   "execution_count": 1,
   "metadata": {},
   "outputs": [],
   "source": [
    "def get_board_from_state(state, rows, cols):\n",
    "        \"\"\"\n",
    "        Reconstruct the board from the unique integer hash.\n",
    "        \n",
    "        Args:\n",
    "            state (int): The unique integer representing the board state.\n",
    "            rows (int): The number of rows in the board.\n",
    "            cols (int): The number of columns in the board.\n",
    "        \n",
    "        Returns:\n",
    "            Board: The reconstructed board.\n",
    "        \"\"\"\n",
    "        # Convert the integer hash back to a string\n",
    "        state_str = str(state)\n",
    "        \n",
    "        # Split the string into cell values (assuming each cell has an id and a type)\n",
    "        cell_values = [state_str[i:i+2] for i in range(0, len(state_str), 2)]\n",
    "        \n",
    "        # Reconstruct the board from the cell values\n",
    "        board = Board(rows, cols)\n",
    "        index = 0\n",
    "        for row in range(rows):\n",
    "            for col in range(cols):\n",
    "                cell_id = int(cell_values[index][0])\n",
    "                cell_type = ID_TO_TYPE[int(cell_values[index][1])]\n",
    "                board.board[row][col] = Candy(cell_id, cell_type)\n",
    "                index += 1\n",
    "        \n",
    "        return board"
   ]
  },
  {
   "cell_type": "code",
   "execution_count": 25,
   "metadata": {},
   "outputs": [
    {
     "name": "stdout",
     "output_type": "stream",
     "text": [
      "|4 2 5 1 5 6 4|\n",
      "|1 4 2 4 4 6 3|\n",
      "|1 4 1 3 1 1 2|\n",
      "|3 1 1 3 5 4 3|\n",
      "|6 3 2 4 2 3 2|\n",
      "|5 2 4 3 1 2 3|\n",
      "|5 4 5 2 2 6 1|\n",
      "\n"
     ]
    }
   ],
   "source": [
    "board_1.display()"
   ]
  },
  {
   "cell_type": "code",
   "execution_count": 34,
   "metadata": {},
   "outputs": [
    {
     "name": "stdout",
     "output_type": "stream",
     "text": [
      "|4 2 5 1 5 2 6|\n",
      "|1 4 2 4 5 6 4|\n",
      "|1 4 1 3 4 6 3|\n",
      "|3 1 1 3 1 1 2|\n",
      "|6 3 2 4 5 4 3|\n",
      "|5 2 4 3 1 3 3|\n",
      "|5 4 5 2 2 6 1|\n",
      "\n"
     ]
    }
   ],
   "source": [
    "get_board_from_state(int(0x12d29b76ecb4212e78929a7f789bd71db6cbe38246b1e0aafe5d5bf8b0b8e4cc1c8223738bd80c83ba), 7, 7).display()"
   ]
  },
  {
   "cell_type": "code",
   "execution_count": 22,
   "metadata": {},
   "outputs": [],
   "source": [
    "from board import Board, Action, read_board_from_file, ID_TO_TYPE\n",
    "from candy import Candy"
   ]
  },
  {
   "cell_type": "code",
   "execution_count": 31,
   "metadata": {},
   "outputs": [],
   "source": [
    "b = get_board_from_state(60605050401060203050303050601060204060405050204050603010503020203010606060202040602050106010103010,7,7)"
   ]
  },
  {
   "cell_type": "code",
   "execution_count": 32,
   "metadata": {},
   "outputs": [],
   "source": [
    "from viz import *"
   ]
  },
  {
   "cell_type": "code",
   "execution_count": 33,
   "metadata": {},
   "outputs": [],
   "source": [
    "a = Action(b)"
   ]
  },
  {
   "cell_type": "code",
   "execution_count": 34,
   "metadata": {},
   "outputs": [
    {
     "name": "stderr",
     "output_type": "stream",
     "text": [
      "100%|██████████| 2000/2000 [00:21<00:00, 93.49it/s]\n",
      "100%|██████████| 2000/2000 [00:19<00:00, 101.07it/s]\n"
     ]
    },
    {
     "ename": "SystemExit",
     "evalue": "",
     "output_type": "error",
     "traceback": [
      "An exception has occurred, use %tb to see the full traceback.\n",
      "\u001b[0;31mSystemExit\u001b[0m\n"
     ]
    },
    {
     "name": "stderr",
     "output_type": "stream",
     "text": [
      "/Users/alexisbonnafont/Library/Python/3.9/lib/python/site-packages/IPython/core/interactiveshell.py:3558: UserWarning: To exit: use 'exit', 'quit', or Ctrl-D.\n",
      "  warn(\"To exit: use 'exit', 'quit', or Ctrl-D.\", stacklevel=1)\n"
     ]
    },
    {
     "ename": "",
     "evalue": "",
     "output_type": "error",
     "traceback": [
      "\u001b[1;31mThe Kernel crashed while executing code in the current cell or a previous cell. \n",
      "\u001b[1;31mPlease review the code in the cell(s) to identify a possible cause of the failure. \n",
      "\u001b[1;31mClick <a href='https://aka.ms/vscodeJupyterKernelCrash'>here</a> for more info. \n",
      "\u001b[1;31mView Jupyter <a href='command:jupyter.viewOutput'>log</a> for further details."
     ]
    }
   ],
   "source": [
    "v = Viz(b,a)\n",
    "v.Visualize()"
   ]
  },
  {
   "cell_type": "code",
   "execution_count": null,
   "metadata": {},
   "outputs": [],
   "source": []
  }
 ],
 "metadata": {
  "kernelspec": {
   "display_name": "Python 3",
   "language": "python",
   "name": "python3"
  },
  "language_info": {
   "codemirror_mode": {
    "name": "ipython",
    "version": 3
   },
   "file_extension": ".py",
   "mimetype": "text/x-python",
   "name": "python",
   "nbconvert_exporter": "python",
   "pygments_lexer": "ipython3",
   "version": "3.9.6"
  }
 },
 "nbformat": 4,
 "nbformat_minor": 2
}
