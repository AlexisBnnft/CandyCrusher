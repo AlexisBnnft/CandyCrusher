{
 "cells": [
  {
   "cell_type": "code",
   "execution_count": 72,
   "metadata": {},
   "outputs": [],
   "source": [
    "import torch\n",
    "import torch.nn as nn\n",
    "import torch.optim as optim\n",
    "from torch.utils.data import Dataset, DataLoader\n",
    "import numpy as np\n",
    "import pandas as pd\n",
    "from candy import Candy\n",
    "from analysis import *\n",
    "from torch.utils.data import random_split\n"
   ]
  },
  {
   "cell_type": "code",
   "execution_count": null,
   "metadata": {},
   "outputs": [],
   "source": []
  },
  {
   "cell_type": "code",
   "execution_count": 43,
   "metadata": {},
   "outputs": [],
   "source": [
    "raw = get_df_from_board_files()"
   ]
  },
  {
   "cell_type": "code",
   "execution_count": 52,
   "metadata": {},
   "outputs": [],
   "source": [
    "# Create a list of dictionaries with the boards and scores\n",
    "data = [{'board': state_to_board(state, 7, 7).board, 'score': score} for state, score in zip(raw[\"state\"], raw[\"Move_1_Q\"])]\n",
    "\n",
    "# Convert the list of dictionaries to a DataFrame\n",
    "df = pd.DataFrame(data, columns=['board', 'score'])"
   ]
  },
  {
   "cell_type": "code",
   "execution_count": 78,
   "metadata": {},
   "outputs": [],
   "source": [
    "\n",
    "# Example unique IDs and types\n",
    "unique_ids = [1, 2, 3, 4, 5, 6, 7]\n",
    "unique_types = [\"normal\", \"sachet\", \"raye_hor\", \"raye_ver\", \"disco\"]\n",
    "\n",
    "# Mapping for one-hot encoding\n",
    "id_to_index = {id_: idx for idx, id_ in enumerate(unique_ids)}\n",
    "type_to_index = {type_: idx for idx, type_ in enumerate(unique_types)}\n",
    "\n",
    "# One-hot encode a single Candy object\n",
    "def one_hot_encode_candy(candy):\n",
    "    id_one_hot = np.zeros(len(unique_ids))\n",
    "    type_one_hot = np.zeros(len(unique_types))\n",
    "    id_one_hot[id_to_index[candy.id]] = 1\n",
    "    type_one_hot[type_to_index.get(candy.type, 0)] = 1  # Default to first index if type missing\n",
    "    return np.concatenate([id_one_hot, type_one_hot])\n",
    "\n",
    "# Convert a 7x7 grid of Candy objects to a numerical 3D array\n",
    "def preprocess_board(board):\n",
    "    grid_size = (7, 7)\n",
    "    encoded_board = np.zeros((*grid_size, len(unique_ids) + len(unique_types)))\n",
    "    for i in range(grid_size[0]):\n",
    "        for j in range(grid_size[1]):\n",
    "            encoded_board[i, j, :] = one_hot_encode_candy(board[i][j])\n",
    "    return encoded_board\n",
    "\n",
    "# Custom PyTorch Dataset\n",
    "class CandyDataset(Dataset):\n",
    "    def __init__(self, dataframe):\n",
    "        self.dataframe = dataframe\n",
    "\n",
    "    def __len__(self):\n",
    "        return len(self.dataframe)\n",
    "\n",
    "    def __getitem__(self, idx):\n",
    "        board = self.dataframe.iloc[idx, 0]  # Board state\n",
    "        score = self.dataframe.iloc[idx, 1]  # Score\n",
    "        processed_board = preprocess_board(board)\n",
    "        return torch.tensor(processed_board, dtype=torch.float32), torch.tensor(score, dtype=torch.float32)\n",
    "\n",
    "\n",
    "# CNN Model\n",
    "class CandyCNN(nn.Module):\n",
    "    def __init__(self):\n",
    "        super(CandyCNN, self).__init__()\n",
    "        in_channels = len(unique_ids) + len(unique_types)  # Total channels from encoding\n",
    "        self.conv1 = nn.Conv2d(in_channels, 16, kernel_size=3, stride=1, padding=1)\n",
    "        self.conv2 = nn.Conv2d(16, 32, kernel_size=3, stride=1, padding=1)\n",
    "        self.pool = nn.MaxPool2d(kernel_size=2, stride=2)\n",
    "\n",
    "        # Calculate the size after convolutions and pooling\n",
    "        self._calculate_fc_input_size()\n",
    "\n",
    "        self.fc1 = nn.Linear(self.fc_input_size, 128)  # Adjusted input size\n",
    "        self.fc2 = nn.Linear(128, 1)\n",
    "\n",
    "    def _calculate_fc_input_size(self):\n",
    "        # Dummy input to calculate output size after convolutions and pooling\n",
    "        dummy_input = torch.zeros(1, len(unique_ids) + len(unique_types), 7, 7)\n",
    "        x = self.pool(torch.relu(self.conv1(dummy_input)))\n",
    "        x = self.pool(torch.relu(self.conv2(x)))\n",
    "        self.fc_input_size = np.prod(x.size()[1:])  # Flattened size after pooling\n",
    "\n",
    "    def forward(self, x):\n",
    "        x = self.pool(torch.relu(self.conv1(x)))\n",
    "        x = self.pool(torch.relu(self.conv2(x)))\n",
    "        x = x.view(x.size(0), -1)  # Flatten for FC layer\n",
    "        x = torch.relu(self.fc1(x))\n",
    "        x = self.fc2(x)\n",
    "        return x\n",
    "    \n",
    "# Training Function\n",
    "def train_model(model, dataloader, criterion, optimizer, epochs=10):\n",
    "    model.train()\n",
    "    for epoch in range(epochs):\n",
    "        running_loss = 0.0\n",
    "        for inputs, targets in dataloader:\n",
    "            optimizer.zero_grad()\n",
    "            outputs = model(inputs.permute(0, 3, 1, 2))  # Adjust dimensions to (N, C, H, W)\n",
    "            loss = criterion(outputs.squeeze(), targets)\n",
    "            loss.backward()\n",
    "            optimizer.step()\n",
    "            running_loss += loss.item()\n",
    "        print(f\"Epoch {epoch + 1}/{epochs}, Loss: {running_loss / len(dataloader):.4f}\")"
   ]
  },
  {
   "cell_type": "code",
   "execution_count": 87,
   "metadata": {},
   "outputs": [
    {
     "data": {
      "text/plain": [
       "2408"
      ]
     },
     "execution_count": 87,
     "metadata": {},
     "output_type": "execute_result"
    }
   ],
   "source": [
    "len(dataset)"
   ]
  },
  {
   "cell_type": "code",
   "execution_count": 90,
   "metadata": {},
   "outputs": [
    {
     "data": {
      "text/plain": [
       "1926"
      ]
     },
     "execution_count": 90,
     "metadata": {},
     "output_type": "execute_result"
    }
   ],
   "source": [
    "len(train_dataset)"
   ]
  },
  {
   "cell_type": "code",
   "execution_count": 79,
   "metadata": {},
   "outputs": [
    {
     "name": "stdout",
     "output_type": "stream",
     "text": [
      "Epoch 1/200, Loss: 379506.5876\n",
      "Epoch 2/200, Loss: 110739.3035\n",
      "Epoch 3/200, Loss: 78944.3493\n",
      "Epoch 4/200, Loss: 78563.4845\n",
      "Epoch 5/200, Loss: 79048.0736\n",
      "Epoch 6/200, Loss: 78711.1655\n",
      "Epoch 7/200, Loss: 79408.7180\n",
      "Epoch 8/200, Loss: 78801.2320\n",
      "Epoch 9/200, Loss: 78247.8512\n",
      "Epoch 10/200, Loss: 78551.0511\n",
      "Epoch 11/200, Loss: 81492.4775\n",
      "Epoch 12/200, Loss: 78182.3999\n",
      "Epoch 13/200, Loss: 78364.0395\n",
      "Epoch 14/200, Loss: 78134.8998\n",
      "Epoch 15/200, Loss: 78096.9884\n",
      "Epoch 16/200, Loss: 78077.9765\n",
      "Epoch 17/200, Loss: 77832.0916\n",
      "Epoch 18/200, Loss: 77564.1740\n",
      "Epoch 19/200, Loss: 77242.3971\n",
      "Epoch 20/200, Loss: 77894.2942\n",
      "Epoch 21/200, Loss: 78025.1435\n",
      "Epoch 22/200, Loss: 77837.2177\n",
      "Epoch 23/200, Loss: 76955.0099\n",
      "Epoch 24/200, Loss: 77110.0269\n",
      "Epoch 25/200, Loss: 77041.5447\n",
      "Epoch 26/200, Loss: 76789.0771\n",
      "Epoch 27/200, Loss: 76369.4760\n",
      "Epoch 28/200, Loss: 76477.9406\n",
      "Epoch 29/200, Loss: 76904.0666\n",
      "Epoch 30/200, Loss: 76240.9463\n",
      "Epoch 31/200, Loss: 75791.6751\n",
      "Epoch 32/200, Loss: 75484.1246\n",
      "Epoch 33/200, Loss: 74970.8344\n",
      "Epoch 34/200, Loss: 75014.6277\n",
      "Epoch 35/200, Loss: 74821.9850\n",
      "Epoch 36/200, Loss: 74121.5864\n",
      "Epoch 37/200, Loss: 74382.7867\n",
      "Epoch 38/200, Loss: 74270.9676\n",
      "Epoch 39/200, Loss: 73961.7529\n",
      "Epoch 40/200, Loss: 73919.2454\n",
      "Epoch 41/200, Loss: 73481.5277\n",
      "Epoch 42/200, Loss: 72763.9193\n",
      "Epoch 43/200, Loss: 72316.3278\n",
      "Epoch 44/200, Loss: 72621.1223\n",
      "Epoch 45/200, Loss: 71697.4218\n",
      "Epoch 46/200, Loss: 72856.2002\n",
      "Epoch 47/200, Loss: 70740.1359\n",
      "Epoch 48/200, Loss: 70636.7424\n",
      "Epoch 49/200, Loss: 69954.3745\n",
      "Epoch 50/200, Loss: 69418.6360\n",
      "Epoch 51/200, Loss: 68671.7048\n",
      "Epoch 52/200, Loss: 68589.9885\n",
      "Epoch 53/200, Loss: 67793.3664\n",
      "Epoch 54/200, Loss: 67671.1726\n",
      "Epoch 55/200, Loss: 68267.1870\n",
      "Epoch 56/200, Loss: 67842.0703\n",
      "Epoch 57/200, Loss: 65609.4915\n",
      "Epoch 58/200, Loss: 64697.9236\n",
      "Epoch 59/200, Loss: 69668.7039\n",
      "Epoch 60/200, Loss: 64887.3682\n",
      "Epoch 61/200, Loss: 65951.6572\n",
      "Epoch 62/200, Loss: 63309.9361\n",
      "Epoch 63/200, Loss: 62564.4225\n",
      "Epoch 64/200, Loss: 62368.0820\n",
      "Epoch 65/200, Loss: 62402.5430\n",
      "Epoch 66/200, Loss: 61532.8058\n",
      "Epoch 67/200, Loss: 60865.9145\n",
      "Epoch 68/200, Loss: 59952.7105\n",
      "Epoch 69/200, Loss: 59778.7557\n",
      "Epoch 70/200, Loss: 60009.8252\n",
      "Epoch 71/200, Loss: 59219.9630\n",
      "Epoch 72/200, Loss: 58732.3270\n",
      "Epoch 73/200, Loss: 58554.6972\n",
      "Epoch 74/200, Loss: 57893.3285\n",
      "Epoch 75/200, Loss: 60425.0264\n",
      "Epoch 76/200, Loss: 58130.2671\n",
      "Epoch 77/200, Loss: 58122.3284\n",
      "Epoch 78/200, Loss: 56571.6263\n",
      "Epoch 79/200, Loss: 56056.3997\n",
      "Epoch 80/200, Loss: 56654.2783\n",
      "Epoch 81/200, Loss: 55104.8824\n",
      "Epoch 82/200, Loss: 54685.2975\n",
      "Epoch 83/200, Loss: 54524.1475\n",
      "Epoch 84/200, Loss: 55037.2999\n",
      "Epoch 85/200, Loss: 53893.0681\n",
      "Epoch 86/200, Loss: 54156.3270\n",
      "Epoch 87/200, Loss: 53239.6173\n",
      "Epoch 88/200, Loss: 53003.9728\n",
      "Epoch 89/200, Loss: 52950.2331\n",
      "Epoch 90/200, Loss: 52829.1122\n",
      "Epoch 91/200, Loss: 51555.5331\n",
      "Epoch 92/200, Loss: 50979.0799\n",
      "Epoch 93/200, Loss: 51280.2387\n",
      "Epoch 94/200, Loss: 49743.4752\n",
      "Epoch 95/200, Loss: 49655.0256\n",
      "Epoch 96/200, Loss: 49473.4628\n",
      "Epoch 97/200, Loss: 48548.8556\n",
      "Epoch 98/200, Loss: 49525.2048\n",
      "Epoch 99/200, Loss: 47904.9611\n",
      "Epoch 100/200, Loss: 47861.2444\n",
      "Epoch 101/200, Loss: 47469.8182\n",
      "Epoch 102/200, Loss: 46863.9508\n",
      "Epoch 103/200, Loss: 45891.1228\n",
      "Epoch 104/200, Loss: 46205.7305\n",
      "Epoch 105/200, Loss: 45986.1817\n",
      "Epoch 106/200, Loss: 44546.9329\n",
      "Epoch 107/200, Loss: 44335.0302\n",
      "Epoch 108/200, Loss: 43832.1931\n",
      "Epoch 109/200, Loss: 43274.3037\n",
      "Epoch 110/200, Loss: 43082.0693\n",
      "Epoch 111/200, Loss: 42507.4763\n",
      "Epoch 112/200, Loss: 41949.2585\n",
      "Epoch 113/200, Loss: 43014.3518\n",
      "Epoch 114/200, Loss: 40927.3266\n",
      "Epoch 115/200, Loss: 40523.0090\n",
      "Epoch 116/200, Loss: 39876.7794\n",
      "Epoch 117/200, Loss: 38911.1448\n",
      "Epoch 118/200, Loss: 38722.1535\n",
      "Epoch 119/200, Loss: 37948.8736\n",
      "Epoch 120/200, Loss: 38255.9858\n",
      "Epoch 121/200, Loss: 36696.2958\n",
      "Epoch 122/200, Loss: 36239.1952\n",
      "Epoch 123/200, Loss: 35453.5292\n",
      "Epoch 124/200, Loss: 35253.4259\n",
      "Epoch 125/200, Loss: 34389.1388\n",
      "Epoch 126/200, Loss: 34215.2018\n",
      "Epoch 127/200, Loss: 33647.8758\n",
      "Epoch 128/200, Loss: 33476.5813\n",
      "Epoch 129/200, Loss: 32768.6146\n",
      "Epoch 130/200, Loss: 32568.2695\n",
      "Epoch 131/200, Loss: 31473.7549\n",
      "Epoch 132/200, Loss: 31473.5887\n",
      "Epoch 133/200, Loss: 30795.5200\n",
      "Epoch 134/200, Loss: 31195.3225\n",
      "Epoch 135/200, Loss: 29678.1744\n",
      "Epoch 136/200, Loss: 30061.7941\n",
      "Epoch 137/200, Loss: 30103.2275\n",
      "Epoch 138/200, Loss: 29314.6982\n",
      "Epoch 139/200, Loss: 28828.3462\n",
      "Epoch 140/200, Loss: 28920.9674\n",
      "Epoch 141/200, Loss: 28736.6998\n",
      "Epoch 142/200, Loss: 28718.7835\n",
      "Epoch 143/200, Loss: 27676.1593\n",
      "Epoch 144/200, Loss: 27232.7689\n",
      "Epoch 145/200, Loss: 27587.5159\n",
      "Epoch 146/200, Loss: 26755.2911\n",
      "Epoch 147/200, Loss: 26044.7763\n",
      "Epoch 148/200, Loss: 26924.7480\n",
      "Epoch 149/200, Loss: 25960.2985\n",
      "Epoch 150/200, Loss: 25106.5315\n",
      "Epoch 151/200, Loss: 25801.0489\n",
      "Epoch 152/200, Loss: 24453.8310\n",
      "Epoch 153/200, Loss: 24437.8638\n",
      "Epoch 154/200, Loss: 24956.4140\n",
      "Epoch 155/200, Loss: 24691.6725\n",
      "Epoch 156/200, Loss: 24104.0559\n",
      "Epoch 157/200, Loss: 23981.6311\n",
      "Epoch 158/200, Loss: 23304.7608\n",
      "Epoch 159/200, Loss: 23098.6927\n",
      "Epoch 160/200, Loss: 23028.9915\n",
      "Epoch 161/200, Loss: 23525.6276\n",
      "Epoch 162/200, Loss: 22919.1637\n",
      "Epoch 163/200, Loss: 22453.0523\n",
      "Epoch 164/200, Loss: 22127.5547\n",
      "Epoch 165/200, Loss: 21847.4436\n",
      "Epoch 166/200, Loss: 22032.4159\n",
      "Epoch 167/200, Loss: 21549.1556\n",
      "Epoch 168/200, Loss: 21974.4112\n",
      "Epoch 169/200, Loss: 21670.7174\n",
      "Epoch 170/200, Loss: 21903.9393\n",
      "Epoch 171/200, Loss: 21344.5008\n",
      "Epoch 172/200, Loss: 20966.6829\n",
      "Epoch 173/200, Loss: 20967.6663\n",
      "Epoch 174/200, Loss: 20844.4310\n",
      "Epoch 175/200, Loss: 20551.5829\n",
      "Epoch 176/200, Loss: 21314.6994\n",
      "Epoch 177/200, Loss: 19808.9357\n",
      "Epoch 178/200, Loss: 20200.2888\n",
      "Epoch 179/200, Loss: 19991.0172\n",
      "Epoch 180/200, Loss: 20074.6376\n",
      "Epoch 181/200, Loss: 19626.6108\n",
      "Epoch 182/200, Loss: 19496.0821\n",
      "Epoch 183/200, Loss: 19320.7009\n",
      "Epoch 184/200, Loss: 19611.1350\n",
      "Epoch 185/200, Loss: 19518.7899\n",
      "Epoch 186/200, Loss: 19618.9668\n",
      "Epoch 187/200, Loss: 18755.9790\n",
      "Epoch 188/200, Loss: 18523.5333\n",
      "Epoch 189/200, Loss: 18313.8263\n",
      "Epoch 190/200, Loss: 18318.4807\n",
      "Epoch 191/200, Loss: 18267.5517\n",
      "Epoch 192/200, Loss: 19097.9852\n",
      "Epoch 193/200, Loss: 18425.1950\n",
      "Epoch 194/200, Loss: 17908.2923\n",
      "Epoch 195/200, Loss: 17813.4427\n",
      "Epoch 196/200, Loss: 18698.7438\n",
      "Epoch 197/200, Loss: 17797.8417\n",
      "Epoch 198/200, Loss: 17290.4605\n",
      "Epoch 199/200, Loss: 17059.4077\n",
      "Epoch 200/200, Loss: 17022.9122\n"
     ]
    }
   ],
   "source": [
    "\n",
    "# Create dataset\n",
    "dataset = CandyDataset(df)\n",
    "\n",
    "# Calculate the size of the training and validation sets (80% train, 20% val)\n",
    "train_size = int(0.8 * len(dataset))  # 80% for training\n",
    "val_size = len(dataset) - train_size  # 20% for validation\n",
    "\n",
    "# Split dataset into train and validation sets\n",
    "train_dataset, val_dataset = random_split(dataset, [train_size, val_size])\n",
    "\n",
    "# Create dataloaders for training and validation sets\n",
    "train_dataloader = DataLoader(train_dataset, batch_size=32, shuffle=True)\n",
    "val_dataloader = DataLoader(val_dataset, batch_size=32, shuffle=False)\n",
    "\n",
    "# Initialize model, loss, and optimizer\n",
    "model = CandyCNN()\n",
    "criterion = nn.MSELoss()\n",
    "optimizer = optim.Adam(model.parameters(), lr=0.001)\n",
    "\n",
    "# Train the model\n",
    "train_model(model, train_dataloader, criterion, optimizer, epochs=200)"
   ]
  },
  {
   "cell_type": "code",
   "execution_count": 80,
   "metadata": {},
   "outputs": [
    {
     "name": "stdout",
     "output_type": "stream",
     "text": [
      "tensor([[914.4167]], grad_fn=<AddmmBackward0>)\n",
      "818.8674953682844\n"
     ]
    }
   ],
   "source": [
    "print(model(torch.tensor(preprocess_board(state_to_board(raw[\"state\"][0], 7, 7).board), dtype=torch.float32).unsqueeze(0).permute(0, 3, 1, 2))) # Example prediction\n",
    "# real value\n",
    "print(raw[\"Move_1_Q\"][0])"
   ]
  },
  {
   "cell_type": "code",
   "execution_count": 103,
   "metadata": {},
   "outputs": [],
   "source": [
    "from matplotlib import pyplot as plt"
   ]
  },
  {
   "cell_type": "code",
   "execution_count": 118,
   "metadata": {},
   "outputs": [
    {
     "data": {
      "image/png": "[encoded data removed]",
      "text/plain": [
       "<Figure size 1000x800 with 1 Axes>"
      ]
     },
     "metadata": {},
     "output_type": "display_data"
    }
   ],
   "source": [
    "import matplotlib.pyplot as plt\n",
    "\n",
    "# Show the prediction on the validation set\n",
    "model.eval()\n",
    "with torch.no_grad():\n",
    "    inp = []\n",
    "    tar = []\n",
    "    for inputs, targets in val_dataloader:\n",
    "        outputs = model(inputs.permute(0, 3, 1, 2))\n",
    "        inp.extend(outputs.squeeze().numpy().flatten())\n",
    "        tar.extend(targets.squeeze().numpy().flatten())\n",
    "\n",
    "    plt.figure(figsize=(10, 8))\n",
    "    plt.scatter(inp, tar)\n",
    "    plt.plot([0, 2500], [0, 2500], color='red', linestyle='--')\n",
    "    plt.title(\"Model Predictions vs Targets\")\n",
    "    plt.xlabel(\"Predicted Values\")\n",
    "    plt.ylabel(\"Target Values\")\n",
    "    plt.show()"
   ]
  },
  {
   "cell_type": "code",
   "execution_count": 84,
   "metadata": {},
   "outputs": [
    {
     "data": {
      "text/plain": [
       "61"
      ]
     },
     "execution_count": 84,
     "metadata": {},
     "output_type": "execute_result"
    }
   ],
   "source": [
    "len(train_dataloader)"
   ]
  },
  {
   "cell_type": "code",
   "execution_count": 83,
   "metadata": {},
   "outputs": [
    {
     "data": {
      "text/plain": [
       "16"
      ]
     },
     "execution_count": 83,
     "metadata": {},
     "output_type": "execute_result"
    }
   ],
   "source": [
    "len(val_dataloader)"
   ]
  },
  {
   "cell_type": "code",
   "execution_count": null,
   "metadata": {},
   "outputs": [],
   "source": [
    "# Plo"
   ]
  },
  {
   "cell_type": "code",
   "execution_count": 39,
   "metadata": {},
   "outputs": [],
   "source": [
    "import numpy as np\n",
    "\n",
    "# Assume we know all unique IDs and types\n",
    "unique_ids = [1, 2, 3, 4, 5, 6]\n",
    "unique_types = [\"normal\", \"striped\", \"wrapped\", \"disco\"]\n",
    "id_to_index = {id_: idx for idx, id_ in enumerate(unique_ids)}\n",
    "type_to_index = {type_: idx for idx, type_ in enumerate(unique_types)}\n",
    "\n",
    "# One-hot encode a single Candy object\n",
    "def one_hot_encode_candy(candy):\n",
    "    id_one_hot = np.zeros(len(unique_ids))\n",
    "    type_one_hot = np.zeros(len(unique_types))\n",
    "    id_one_hot[id_to_index[candy.id]] = 1\n",
    "    type_one_hot[type_to_index.get(candy.type, 0)] = 1  # Default to first index if type missing\n",
    "    return np.concatenate([id_one_hot, type_one_hot])\n",
    "\n",
    "# Convert a 7x7 grid of Candy objects to a numerical 3D array\n",
    "def preprocess_board(board):\n",
    "    grid_size = (7, 7)\n",
    "    encoded_board = np.zeros((*grid_size, len(unique_ids) + len(unique_types)))\n",
    "    for i in range(grid_size[0]):\n",
    "        for j in range(grid_size[1]):\n",
    "            encoded_board[i, j, :] = one_hot_encode_candy(board[i][j])\n",
    "    return encoded_board"
   ]
  },
  {
   "cell_type": "code",
   "execution_count": null,
   "metadata": {},
   "outputs": [],
   "source": []
  },
  {
   "cell_type": "code",
   "execution_count": 40,
   "metadata": {},
   "outputs": [
    {
     "name": "stdout",
     "output_type": "stream",
     "text": [
      "Processed Board Shape: (7, 7, 10)\n"
     ]
    }
   ],
   "source": [
    "processed_board = preprocess_board(b)\n",
    "print(\"Processed Board Shape:\", processed_board.shape)  # (7, 7, N + M)\n"
   ]
  },
  {
   "cell_type": "code",
   "execution_count": null,
   "metadata": {},
   "outputs": [],
   "source": []
  },
  {
   "cell_type": "code",
   "execution_count": null,
   "metadata": {},
   "outputs": [],
   "source": []
  }
 ],
 "metadata": {
  "kernelspec": {
   "display_name": "Python 3",
   "language": "python",
   "name": "python3"
  },
  "language_info": {
   "codemirror_mode": {
    "name": "ipython",
    "version": 3
   },
   "file_extension": ".py",
   "mimetype": "text/x-python",
   "name": "python",
   "nbconvert_exporter": "python",
   "pygments_lexer": "ipython3",
   "version": "3.9.6"
  }
 },
 "nbformat": 4,
 "nbformat_minor": 2
}
