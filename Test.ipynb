{
 "cells": [
  {
   "cell_type": "markdown",
   "metadata": {},
   "source": [
    "# Test"
   ]
  },
  {
   "cell_type": "markdown",
   "metadata": {},
   "source": [
    "This notebook is only to test our the functionnality / debug of the others .py files"
   ]
  },
  {
   "cell_type": "code",
   "execution_count": 1,
   "metadata": {},
   "outputs": [],
   "source": [
    "%load_ext autoreload\n",
    "%autoreload 2\n",
    "from board import *\n",
    "from candy import *"
   ]
  },
  {
   "cell_type": "code",
   "execution_count": 2,
   "metadata": {},
   "outputs": [
    {
     "name": "stdout",
     "output_type": "stream",
     "text": [
      "Empty Board\n",
      "|           |\n",
      "|           |\n",
      "|           |\n",
      "|           |\n",
      "|           |\n",
      "\n",
      "Random Board\n",
      "|2 8 7 5 7 1|\n",
      "|1 6 7 7 4 8|\n",
      "|4 5 6 2 2 2|\n",
      "|2 2 2 2 1 9|\n",
      "|1 6 4 8 1 1|\n",
      "\n",
      "nothing to merge ? {(2, 4), (3, 1), (3, 0), (2, 3), (3, 3), (3, 2), (2, 5)}\n",
      "merging\n",
      "|           |\n",
      "|2 8 7   7 1|\n",
      "|1 6 7 5 4 8|\n",
      "|4 5 6 7 1 9|\n",
      "|1 6 4 8 1 1|\n",
      "\n"
     ]
    }
   ],
   "source": [
    "b = Board(5,6)\n",
    "print(\"Empty Board\")\n",
    "b.display()\n",
    "print(\"Random Board\")\n",
    "b.fill_random()\n",
    "b.display()\n",
    "print(\"nothing to merge ?\", b.check_if_merged_all())\n",
    "\n",
    "if b.check_if_merged_all():\n",
    "    print(\"merging\")\n",
    "    b.remove_matches()\n",
    "    b.display()"
   ]
  },
  {
   "cell_type": "code",
   "execution_count": 3,
   "metadata": {},
   "outputs": [],
   "source": [
    "from action import *"
   ]
  },
  {
   "cell_type": "code",
   "execution_count": 13,
   "metadata": {},
   "outputs": [
    {
     "name": "stdout",
     "output_type": "stream",
     "text": [
      "|3 1 3 4 8 1|\n",
      "|1 1 1 6 4 1|\n",
      "|6 1 2 9 6 6|\n",
      "|6 3 2 1 5 9|\n",
      "|8 8 8 7 8 1|\n",
      "\n",
      "Swapping (0,0) and (0,1)\n",
      "|1 3 3 4 8 1|\n",
      "|1 1 1 6 4 1|\n",
      "|6 1 2 9 6 6|\n",
      "|6 3 2 1 5 9|\n",
      "|8 8 8 7 8 1|\n",
      "\n",
      "Swapping (0,1) and (0,2)\n",
      "|1 3 3 4 8 1|\n",
      "|1 1 1 6 4 1|\n",
      "|6 1 2 9 6 6|\n",
      "|6 3 2 1 5 9|\n",
      "|8 8 8 7 8 1|\n",
      "\n",
      "Can only swap adjacent candies.\n",
      "|1 3 3 4 8 1|\n",
      "|1 1 1 6 4 1|\n",
      "|6 1 2 9 6 6|\n",
      "|6 3 2 1 5 9|\n",
      "|8 8 8 7 8 1|\n",
      "\n"
     ]
    }
   ],
   "source": [
    "action = Action(b)\n",
    "b.fill_random()\n",
    "b.display()\n",
    "print(\"Swapping (0,0) and (0,1)\")\n",
    "action.raw_swap(0,0, 0,1)\n",
    "b.display()\n",
    "print(\"Swapping (0,1) and (0,2)\")\n",
    "action.raw_swap(0,1, 0,2)\n",
    "b.display()\n",
    "\n",
    "# Show what happens when we swap two candies that don't match\n",
    "try: \n",
    "    action.raw_swap(0,4, 0,1)\n",
    "except Exception as e:\n",
    "    print(e)\n",
    "b.display()"
   ]
  },
  {
   "cell_type": "code",
   "execution_count": null,
   "metadata": {},
   "outputs": [],
   "source": []
  },
  {
   "cell_type": "markdown",
   "metadata": {},
   "source": []
  }
 ],
 "metadata": {
  "kernelspec": {
   "display_name": "Python 3",
   "language": "python",
   "name": "python3"
  },
  "language_info": {
   "codemirror_mode": {
    "name": "ipython",
    "version": 3
   },
   "file_extension": ".py",
   "mimetype": "text/x-python",
   "name": "python",
   "nbconvert_exporter": "python",
   "pygments_lexer": "ipython3",
   "version": "3.9.6"
  }
 },
 "nbformat": 4,
 "nbformat_minor": 2
}
