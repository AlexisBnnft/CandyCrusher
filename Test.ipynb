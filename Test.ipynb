{
 "cells": [
  {
   "cell_type": "markdown",
   "metadata": {},
   "source": [
    "# Test"
   ]
  },
  {
   "cell_type": "markdown",
   "metadata": {},
   "source": [
    "This notebook is only to test our the functionnality / debug of the others .py files"
   ]
  },
  {
   "cell_type": "code",
   "execution_count": 40,
   "metadata": {},
   "outputs": [
    {
     "name": "stderr",
     "output_type": "stream",
     "text": [
      "MCTS Search:   3%|▎         | 1/30 [00:00<00:04,  6.21it/s]\n",
      "[autoreload of mcts failed: Traceback (most recent call last):\n",
      "  File \"/Users/alexisbonnafont/Library/Python/3.9/lib/python/site-packages/IPython/extensions/autoreload.py\", line 276, in check\n",
      "    superreload(m, reload, self.old_objects)\n",
      "  File \"/Users/alexisbonnafont/Library/Python/3.9/lib/python/site-packages/IPython/extensions/autoreload.py\", line 475, in superreload\n",
      "    module = reload(module)\n",
      "  File \"/Library/Developer/CommandLineTools/Library/Frameworks/Python3.framework/Versions/3.9/lib/python3.9/importlib/__init__.py\", line 169, in reload\n",
      "    _bootstrap._exec(spec, module)\n",
      "  File \"<frozen importlib._bootstrap>\", line 613, in _exec\n",
      "  File \"<frozen importlib._bootstrap_external>\", line 850, in exec_module\n",
      "  File \"<frozen importlib._bootstrap>\", line 228, in _call_with_frames_removed\n",
      "  File \"/Users/alexisbonnafont/Documents/CandyCrusher/mcts.py\", line 138, in <module>\n",
      "    best_move = mcts.search(iterations=30)\n",
      "  File \"/Users/alexisbonnafont/Documents/CandyCrusher/mcts.py\", line 65, in search\n",
      "    node.expand()\n",
      "  File \"/Users/alexisbonnafont/Documents/CandyCrusher/mcts.py\", line 36, in expand\n",
      "    Action(new_board).swap(*move[0], *move[1])\n",
      "  File \"/Users/alexisbonnafont/Documents/CandyCrusher/board.py\", line 500, in swap\n",
      "    self.board.update(from_move=[(row1, col1), (row2, col2)],step_by_step=step_by_step)\n",
      "numpy.exceptions.AxisError: axis 1 is out of bounds for array of dimension 0\n",
      "]\n"
     ]
    },
    {
     "name": "stdout",
     "output_type": "stream",
     "text": [
      "The autoreload extension is already loaded. To reload it, use:\n",
      "  %reload_ext autoreload\n",
      "pygame 2.6.1 (SDL 2.28.4, Python 3.9.6)\n",
      "Hello from the pygame community. https://www.pygame.org/contribute.html\n"
     ]
    }
   ],
   "source": [
    "%load_ext autoreload\n",
    "%autoreload 2\n",
    "from board import *\n",
    "from candy import *\n",
    "from Viz import *"
   ]
  },
  {
   "cell_type": "code",
   "execution_count": 42,
   "metadata": {},
   "outputs": [
    {
     "name": "stdout",
     "output_type": "stream",
     "text": [
      "Empty Board\n",
      "|           |\n",
      "|           |\n",
      "|           |\n",
      "|           |\n",
      "|           |\n",
      "\n",
      "Random Board\n",
      "|5 5 2 1 5 5|\n",
      "|3 6 1 1 6 5|\n",
      "|1 1 3 4 6 6|\n",
      "|3 4 3 6 6 5|\n",
      "|3 1 1 2 5 1|\n",
      "\n",
      "nothing to merge ? 3\n",
      "Matches removed\n",
      "|5 5 2 1 5 5|\n",
      "|3 6 1 1   5|\n",
      "|1 1 3 4   6|\n",
      "|3 4 3 6   5|\n",
      "|3 1 1 2 5 1|\n",
      "\n",
      "|5 5 2 1 5 5|\n",
      "|3 6 1 1 3 5|\n",
      "|1 1 3 4 1 6|\n",
      "|3 4 3 6 5 5|\n",
      "|3 1 1 2 5 1|\n",
      "\n",
      "nothing to merge ? 0\n"
     ]
    }
   ],
   "source": [
    "b = Board(5,6)\n",
    "print(\"Empty Board\")\n",
    "b.display()\n",
    "print(\"Random Board\")\n",
    "b.fill_random()\n",
    "b.display()\n",
    "print(\"nothing to merge ?\", len(b.check_if_merged_all()))\n",
    "\n",
    "while b.remove_matches():\n",
    "    print(\"Matches removed\")\n",
    "    b.display()\n",
    "    b.make_it_fall()\n",
    "    b.fill_random()\n",
    "    b.display()\n",
    "    print(\"nothing to merge ?\", len(b.check_if_merged_all()))\n"
   ]
  },
  {
   "cell_type": "code",
   "execution_count": 37,
   "metadata": {},
   "outputs": [
    {
     "name": "stdout",
     "output_type": "stream",
     "text": [
      "|2 1 3 1 1 1|\n",
      "|3 2 2 2 1 3|\n",
      "|1 4 3 2 2 4|\n",
      "|4 2 4 2 2 3|\n",
      "|3 2 2 1 3 2|\n",
      "\n"
     ]
    }
   ],
   "source": [
    "b = Board(5,6)\n",
    "b.fill_random()\n",
    "b.display()\n"
   ]
  },
  {
   "cell_type": "code",
   "execution_count": 177,
   "metadata": {},
   "outputs": [
    {
     "name": "stdout",
     "output_type": "stream",
     "text": [
      "|5 5 6 2 6 2|\n",
      "|2 3 2 1 1 3|\n",
      "|5 6 2 1 1 2|\n",
      "|2 4 3 2 2 1|\n",
      "|5 6 2 5 5 4|\n",
      "\n",
      "Legal moves:\n",
      "((0, 2), (0, 3))\n",
      "|5 5 \u001b[91m6\u001b[0m \u001b[91m2\u001b[0m 6 2|\n",
      "|2 3 2 1 1 3|\n",
      "|5 6 2 1 1 2|\n",
      "|2 4 3 2 2 1|\n",
      "|5 6 2 5 5 4|\n",
      "\n",
      "((2, 2), (3, 2))\n",
      "|5 5 6 2 6 2|\n",
      "|2 3 2 1 1 3|\n",
      "|5 6 \u001b[91m2\u001b[0m 1 1 2|\n",
      "|2 4 \u001b[91m3\u001b[0m 2 2 1|\n",
      "|5 6 2 5 5 4|\n",
      "\n",
      "((2, 5), (3, 5))\n",
      "|5 5 6 2 6 2|\n",
      "|2 3 2 1 1 3|\n",
      "|5 6 2 1 1 \u001b[91m2\u001b[0m|\n",
      "|2 4 3 2 2 \u001b[91m1\u001b[0m|\n",
      "|5 6 2 5 5 4|\n",
      "\n",
      "((3, 2), (3, 3))\n",
      "|5 5 6 2 6 2|\n",
      "|2 3 2 1 1 3|\n",
      "|5 6 2 1 1 2|\n",
      "|2 4 \u001b[91m3\u001b[0m \u001b[91m2\u001b[0m 2 1|\n",
      "|5 6 2 5 5 4|\n",
      "\n",
      "((3, 2), (4, 2))\n",
      "|5 5 6 2 6 2|\n",
      "|2 3 2 1 1 3|\n",
      "|5 6 2 1 1 2|\n",
      "|2 4 \u001b[91m3\u001b[0m 2 2 1|\n",
      "|5 6 \u001b[91m2\u001b[0m 5 5 4|\n",
      "\n",
      "((3, 4), (3, 5))\n",
      "|5 5 6 2 6 2|\n",
      "|2 3 2 1 1 3|\n",
      "|5 6 2 1 1 2|\n",
      "|2 4 3 2 \u001b[91m2\u001b[0m \u001b[91m1\u001b[0m|\n",
      "|5 6 2 5 5 4|\n",
      "\n"
     ]
    }
   ],
   "source": [
    "import time\n",
    "\n",
    "\n",
    "b = Board(5,6)\n",
    "b.fill_random()\n",
    "b.update()\n",
    "b.display()\n",
    "legal_moves = b.get_legal_moves()\n",
    "\n",
    "print(\"Legal moves:\")\n",
    "for move in legal_moves:\n",
    "    print(move)\n",
    "    b.display_move(move)\n"
   ]
  },
  {
   "cell_type": "code",
   "execution_count": 5,
   "metadata": {},
   "outputs": [
    {
     "data": {
      "image/png": "[encoded data removed]",
      "text/plain": [
       "<Figure size 1000x600 with 1 Axes>"
      ]
     },
     "metadata": {},
     "output_type": "display_data"
    }
   ],
   "source": [
    "import time\n",
    "import matplotlib.pyplot as plt\n",
    "from board import Board, Action\n",
    "\n",
    "def measure_runtime(board_sizes):\n",
    "    runtimes = {}\n",
    "    for size in board_sizes:\n",
    "        b = Board(size, size)\n",
    "        b.fill_random()\n",
    "        a = Action(b)\n",
    "        \n",
    "        start_time = time.time()\n",
    "        legal_moves = b.get_legal_moves()\n",
    "        end_time = time.time()\n",
    "        \n",
    "        runtime = end_time - start_time\n",
    "        runtimes[size] = runtime\n",
    "    return runtimes\n",
    "\n",
    "# List of board sizes to test\n",
    "board_sizes = range(60)\n",
    "\n",
    "# Measure and print runtimes\n",
    "runtimes = measure_runtime(board_sizes)\n",
    "\n",
    "# Plot the results\n",
    "sizes = list(runtimes.keys())\n",
    "times = list(runtimes.values())\n",
    "\n",
    "plt.figure(figsize=(10, 6))\n",
    "plt.plot(sizes, times, marker='o')\n",
    "plt.title('Runtime of b.get_legal_moves() for Different Board Sizes')\n",
    "plt.xlabel('Board Size (NxN)')\n",
    "plt.ylabel('Runtime (seconds)')\n",
    "plt.grid(True)\n",
    "plt.show()"
   ]
  },
  {
   "cell_type": "code",
   "execution_count": 35,
   "metadata": {},
   "outputs": [
    {
     "name": "stdout",
     "output_type": "stream",
     "text": [
      "|3 2 3 2 1 1|\n",
      "|3 5 4 2 2 5|\n",
      "|6 2 2 1 6 5|\n",
      "|3 5 5 3 1 4|\n",
      "|2 4 1 4 2 2|\n",
      "\n",
      "Swapping (0,0) and (0,1)\n",
      "|3 2 3 2 1 1|\n",
      "|3 5 4 2 2 5|\n",
      "|6 2 2 1 6 5|\n",
      "|3 5 5 3 1 4|\n",
      "|2 4 1 4 2 2|\n",
      "\n",
      "Swapping (0,1) and (0,2)\n",
      "|3 3 2 2 1 1|\n",
      "|3 5 4 2 2 5|\n",
      "|6 2 2 1 6 5|\n",
      "|3 5 5 3 1 4|\n",
      "|2 4 1 4 2 2|\n",
      "\n",
      "Can only swap adjacent candies.\n",
      "|3 3 2 2 1 1|\n",
      "|3 5 4 2 2 5|\n",
      "|6 2 2 1 6 5|\n",
      "|3 5 5 3 1 4|\n",
      "|2 4 1 4 2 2|\n",
      "\n"
     ]
    }
   ],
   "source": [
    "action = Action(b)\n",
    "b.fill_random()\n",
    "b.display()\n",
    "print(\"Swapping (0,0) and (0,1)\")\n",
    "action.swap(0,0, 0,1)\n",
    "b.display()\n",
    "print(\"Swapping (0,1) and (0,2)\")\n",
    "action.raw_swap(0,1, 0,2)\n",
    "b.display()\n",
    "\n",
    "# Show what happens when we swap two candies that don't match\n",
    "try: \n",
    "    action.raw_swap(0,4, 0,1)\n",
    "except Exception as e:\n",
    "    print(e)\n",
    "b.display()"
   ]
  },
  {
   "cell_type": "code",
   "execution_count": 5,
   "metadata": {},
   "outputs": [
    {
     "name": "stdout",
     "output_type": "stream",
     "text": [
      "|2 2 1 1 4 5|\n",
      "|1 1 6 3 5 4|\n",
      "|2 3 1 3 3 6|\n",
      "|3 2 1 4 6 3|\n",
      "|3 1 3 6 2 5|\n",
      "\n",
      "Swapping (2,3) and (2,4)\n",
      "No match\n"
     ]
    }
   ],
   "source": [
    "b.empty()\n",
    "b.fill_random()\n",
    "b.display()\n",
    "\n",
    "up=b.update()\n",
    "if up:\n",
    "    print(\"something was merged\")\n",
    "    b.display()\n",
    "\n",
    "\n",
    "\n",
    "print(\"Swapping (2,3) and (2,4)\")\n",
    "sw=action.swap(2,3, 2,4)\n",
    "if sw==False:\n",
    "    print(\"No match\")\n",
    "else:\n",
    "    b.display()\n",
    "    b.update()\n",
    "    print(\"After update\")\n",
    "    b.display()"
   ]
  },
  {
   "cell_type": "markdown",
   "metadata": {},
   "source": [
    "## Tester la vizu (stylééé)\n",
    "\n",
    "Commandes: \n",
    "\n",
    "-clicker pour selectionner le premier candy\n",
    "\n",
    "-Fleches pour selectionner le 2e\n",
    "\n",
    "-s pour générer une nouvelle grille si bloqué\n",
    "\n",
    "-q pour quitter (moi ca marche pas, je dois stopper la cellule dans le notebook)"
   ]
  },
  {
   "cell_type": "code",
   "execution_count": 26,
   "metadata": {},
   "outputs": [
    {
     "name": "stdout",
     "output_type": "stream",
     "text": [
      "[]\n",
      "[]\n",
      "(1, 5) [(2, 4), (2, 5)] False\n",
      "(2, 5) [(2, 4), (2, 5)] False\n",
      "coucou\n",
      "(3, 5) [(2, 4), (2, 5)] True\n",
      "(4, 5) [(2, 4), (2, 5)] True\n",
      "[(2, 5)]\n",
      "[(2, 4), (2, 5)]\n",
      "[]\n",
      "[]\n",
      "[]\n",
      "[(2, 3), (3, 3)]\n",
      "[]\n",
      "[]\n",
      "[(2, 3)]\n",
      "[(2, 4), (2, 3)]\n",
      "[]\n",
      "[]\n",
      "[]\n",
      "[]\n",
      "[]\n",
      "[]\n",
      "[]\n",
      "[]\n",
      "[]\n",
      "[(3, 3), (3, 4)]\n",
      "[]\n",
      "[]\n",
      "[]\n",
      "[(3, 1), (4, 1)]\n",
      "[]\n",
      "[]\n"
     ]
    },
    {
     "ename": "KeyboardInterrupt",
     "evalue": "",
     "output_type": "error",
     "traceback": [
      "\u001b[0;31m---------------------------------------------------------------------------\u001b[0m",
      "\u001b[0;31mKeyboardInterrupt\u001b[0m                         Traceback (most recent call last)",
      "Cell \u001b[0;32mIn[26], line 7\u001b[0m\n\u001b[1;32m      5\u001b[0m a\u001b[38;5;241m=\u001b[39mAction(b)\n\u001b[1;32m      6\u001b[0m v \u001b[38;5;241m=\u001b[39m Viz(b,a,\u001b[38;5;28;01mFalse\u001b[39;00m)\n\u001b[0;32m----> 7\u001b[0m \u001b[43mv\u001b[49m\u001b[38;5;241;43m.\u001b[39;49m\u001b[43mVisualize\u001b[49m\u001b[43m(\u001b[49m\u001b[43m)\u001b[49m\n",
      "File \u001b[0;32m~/Documents/Stanford/Fall quarter/AA 228/Final Project/CandyCrusher/Viz.py:55\u001b[0m, in \u001b[0;36mViz.Visualize\u001b[0;34m(self)\u001b[0m\n\u001b[1;32m     51\u001b[0m clicked \u001b[38;5;241m=\u001b[39m \u001b[38;5;28;01mFalse\u001b[39;00m\n\u001b[1;32m     53\u001b[0m \u001b[38;5;28;01mwhile\u001b[39;00m run:\n\u001b[0;32m---> 55\u001b[0m     \u001b[43mpygame\u001b[49m\u001b[38;5;241;43m.\u001b[39;49m\u001b[43mtime\u001b[49m\u001b[38;5;241;43m.\u001b[39;49m\u001b[43mdelay\u001b[49m\u001b[43m(\u001b[49m\u001b[38;5;241;43m50\u001b[39;49m\u001b[43m)\u001b[49m\n\u001b[1;32m     57\u001b[0m     \u001b[38;5;28;01mfor\u001b[39;00m event \u001b[38;5;129;01min\u001b[39;00m pygame\u001b[38;5;241m.\u001b[39mevent\u001b[38;5;241m.\u001b[39mget():\n\u001b[1;32m     58\u001b[0m         \u001b[38;5;28;01mif\u001b[39;00m event\u001b[38;5;241m.\u001b[39mtype \u001b[38;5;241m==\u001b[39m pygame\u001b[38;5;241m.\u001b[39mQUIT:\n",
      "\u001b[0;31mKeyboardInterrupt\u001b[0m: "
     ]
    }
   ],
   "source": [
    "np.random.seed(1)\n",
    "b = Board(5,6)\n",
    "b.fill_random()\n",
    "b.update()\n",
    "a=Action(b)\n",
    "v = Viz(b,a,False)\n",
    "v.Visualize()"
   ]
  },
  {
   "cell_type": "code",
   "execution_count": null,
   "metadata": {},
   "outputs": [],
   "source": []
  }
 ],
 "metadata": {
  "kernelspec": {
   "display_name": "base",
   "language": "python",
   "name": "python3"
  },
  "language_info": {
   "codemirror_mode": {
    "name": "ipython",
    "version": 3
   },
   "file_extension": ".py",
   "mimetype": "text/x-python",
   "name": "python",
   "nbconvert_exporter": "python",
   "pygments_lexer": "ipython3",
   "version": "3.12.2"
  }
 },
 "nbformat": 4,
 "nbformat_minor": 2
}
