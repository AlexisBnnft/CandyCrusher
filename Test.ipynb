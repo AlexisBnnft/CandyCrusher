{
 "cells": [
  {
   "cell_type": "markdown",
   "metadata": {},
   "source": [
    "# Test"
   ]
  },
  {
   "cell_type": "markdown",
   "metadata": {},
   "source": [
    "This notebook is only to test our the functionnality / debug of the others .py files"
   ]
  },
  {
   "cell_type": "code",
   "execution_count": 20,
   "metadata": {},
   "outputs": [
    {
     "name": "stdout",
     "output_type": "stream",
     "text": [
      "The autoreload extension is already loaded. To reload it, use:\n",
      "  %reload_ext autoreload\n"
     ]
    }
   ],
   "source": [
    "%load_ext autoreload\n",
    "%autoreload 2\n",
    "from board import *\n",
    "from candy import *"
   ]
  },
  {
   "cell_type": "code",
   "execution_count": 22,
   "metadata": {},
   "outputs": [
    {
     "name": "stdout",
     "output_type": "stream",
     "text": [
      "Empty Board\n",
      "|           |\n",
      "|           |\n",
      "|           |\n",
      "|           |\n",
      "|           |\n",
      "\n",
      "Random Board\n",
      "|1 1 6 2 1 2|\n",
      "|4 5 2 1 5 6|\n",
      "|2 3 5 6 1 1|\n",
      "|3 2 4 6 6 4|\n",
      "|5 6 6 6 2 3|\n",
      "\n",
      "nothing to merge ? {(4, 3), (4, 2), (2, 3), (3, 3), (4, 1)}\n",
      "merging\n",
      "|1 5 1 6 1 2|\n",
      "|4 1 6 4 5 6|\n",
      "|2 5 2 5 1 1|\n",
      "|3 3 5 2 6 4|\n",
      "|5 2 4 1 2 3|\n",
      "\n"
     ]
    }
   ],
   "source": [
    "b = Board(5,6)\n",
    "print(\"Empty Board\")\n",
    "b.display()\n",
    "print(\"Random Board\")\n",
    "b.fill_random()\n",
    "b.display()\n",
    "print(\"nothing to merge ?\", b.check_if_merged_all())\n",
    "\n",
    "if b.check_if_merged_all():\n",
    "    print(\"merging\")\n",
    "    b.update()\n",
    "    b.display()\n",
    "\n"
   ]
  },
  {
   "cell_type": "code",
   "execution_count": 23,
   "metadata": {},
   "outputs": [],
   "source": [
    "from action import *"
   ]
  },
  {
   "cell_type": "code",
   "execution_count": 24,
   "metadata": {},
   "outputs": [
    {
     "name": "stdout",
     "output_type": "stream",
     "text": [
      "|1 5 1 6 1 2|\n",
      "|4 1 6 4 5 6|\n",
      "|2 5 2 5 1 1|\n",
      "|3 3 5 2 6 4|\n",
      "|5 2 4 1 2 3|\n",
      "\n",
      "Swapping (0,0) and (0,1)\n",
      "|5 1 1 6 1 2|\n",
      "|4 1 6 4 5 6|\n",
      "|2 5 2 5 1 1|\n",
      "|3 3 5 2 6 4|\n",
      "|5 2 4 1 2 3|\n",
      "\n",
      "Swapping (0,1) and (0,2)\n",
      "|5 1 1 6 1 2|\n",
      "|4 1 6 4 5 6|\n",
      "|2 5 2 5 1 1|\n",
      "|3 3 5 2 6 4|\n",
      "|5 2 4 1 2 3|\n",
      "\n",
      "Can only swap adjacent candies.\n",
      "|5 1 1 6 1 2|\n",
      "|4 1 6 4 5 6|\n",
      "|2 5 2 5 1 1|\n",
      "|3 3 5 2 6 4|\n",
      "|5 2 4 1 2 3|\n",
      "\n"
     ]
    }
   ],
   "source": [
    "action = Action(b)\n",
    "b.fill_random()\n",
    "b.display()\n",
    "print(\"Swapping (0,0) and (0,1)\")\n",
    "action.swap(0,0, 0,1)\n",
    "b.display()\n",
    "print(\"Swapping (0,1) and (0,2)\")\n",
    "action.raw_swap(0,1, 0,2)\n",
    "b.display()\n",
    "\n",
    "# Show what happens when we swap two candies that don't match\n",
    "try: \n",
    "    action.raw_swap(0,4, 0,1)\n",
    "except Exception as e:\n",
    "    print(e)\n",
    "b.display()"
   ]
  },
  {
   "cell_type": "code",
   "execution_count": 58,
   "metadata": {},
   "outputs": [
    {
     "name": "stdout",
     "output_type": "stream",
     "text": [
      "|4 1 4 4 3 3|\n",
      "|6 2 6 2 4 2|\n",
      "|2 6 4 2 4 5|\n",
      "|4 5 4 1 2 6|\n",
      "|3 6 5 4 2 1|\n",
      "\n",
      "Swapping (0,0) and (0,1)\n",
      "|1 4 4 4 3 3|\n",
      "|6 2 6 2 4 2|\n",
      "|2 6 4 2 4 5|\n",
      "|4 5 4 1 2 6|\n",
      "|3 6 5 4 2 1|\n",
      "\n",
      "After update\n",
      "|1 4 2 1 3 3|\n",
      "|6 2 6 2 4 2|\n",
      "|2 6 4 2 4 5|\n",
      "|4 5 4 1 2 6|\n",
      "|3 6 5 4 2 1|\n",
      "\n"
     ]
    }
   ],
   "source": [
    "b.empty()\n",
    "b.fill_random()\n",
    "b.display()\n",
    "\n",
    "up=b.update()\n",
    "if up:\n",
    "    print(\"something was merged\")\n",
    "    b.display()\n",
    "\n",
    "\n",
    "\n",
    "print(\"Swapping (0,0) and (0,1)\")\n",
    "sw=action.swap(0,0, 0,1)\n",
    "if sw==False:\n",
    "    print(\"No match\")\n",
    "else:\n",
    "    b.display()\n",
    "    b.update()\n",
    "    print(\"After update\")\n",
    "    b.display()"
   ]
  }
 ],
 "metadata": {
  "kernelspec": {
   "display_name": "base",
   "language": "python",
   "name": "python3"
  },
  "language_info": {
   "codemirror_mode": {
    "name": "ipython",
    "version": 3
   },
   "file_extension": ".py",
   "mimetype": "text/x-python",
   "name": "python",
   "nbconvert_exporter": "python",
   "pygments_lexer": "ipython3",
   "version": "3.12.2"
  }
 },
 "nbformat": 4,
 "nbformat_minor": 2
}
