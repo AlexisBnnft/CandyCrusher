{
 "cells": [
  {
   "cell_type": "markdown",
   "metadata": {},
   "source": [
    "# Test"
   ]
  },
  {
   "cell_type": "markdown",
   "metadata": {},
   "source": [
    "This notebook is only to test our the functionnality / debug of the others .py files"
   ]
  },
  {
   "cell_type": "code",
   "execution_count": 31,
   "metadata": {},
   "outputs": [
    {
     "name": "stdout",
     "output_type": "stream",
     "text": [
      "The autoreload extension is already loaded. To reload it, use:\n",
      "  %reload_ext autoreload\n"
     ]
    }
   ],
   "source": [
    "%load_ext autoreload\n",
    "%autoreload 2\n",
    "from board import *\n",
    "from candy import *"
   ]
  },
  {
   "cell_type": "code",
   "execution_count": 32,
   "metadata": {},
   "outputs": [
    {
     "name": "stdout",
     "output_type": "stream",
     "text": [
      "Empty Board\n",
      "|           |\n",
      "|           |\n",
      "|           |\n",
      "|           |\n",
      "|           |\n",
      "\n",
      "Random Board\n",
      "|2 3 3 1 3 2|\n",
      "|3 2 3 1 3 4|\n",
      "|2 4 2 3 1 4|\n",
      "|4 2 3 2 3 1|\n",
      "|3 2 4 4 1 4|\n",
      "\n",
      "nothing to merge ? set()\n"
     ]
    }
   ],
   "source": [
    "b = Board(5,6)\n",
    "print(\"Empty Board\")\n",
    "b.display()\n",
    "print(\"Random Board\")\n",
    "b.fill_random()\n",
    "b.display()\n",
    "print(\"nothing to merge ?\", b.check_if_merged_all())\n",
    "\n",
    "if b.check_if_merged_all():\n",
    "    print(\"merging\")\n",
    "    b.update()\n",
    "    b.display()\n",
    "\n"
   ]
  },
  {
   "cell_type": "code",
   "execution_count": 4,
   "metadata": {},
   "outputs": [],
   "source": [
    "from action import *"
   ]
  },
  {
   "cell_type": "code",
   "execution_count": 5,
   "metadata": {},
   "outputs": [
    {
     "name": "stdout",
     "output_type": "stream",
     "text": [
      "|3 1 4 2 2 3|\n",
      "|3 3 2 3 4 4|\n",
      "|1 3 2 2 3 2|\n",
      "|4 4 1 2 3 2|\n",
      "|3 4 2 1 2 1|\n",
      "\n",
      "Swapping (0,0) and (0,1)\n",
      "|3 1 4 2 2 3|\n",
      "|3 3 2 3 4 4|\n",
      "|1 3 2 2 3 2|\n",
      "|4 4 1 2 3 2|\n",
      "|3 4 2 1 2 1|\n",
      "\n",
      "Swapping (0,1) and (0,2)\n",
      "|3 4 1 2 2 3|\n",
      "|3 3 2 3 4 4|\n",
      "|1 3 2 2 3 2|\n",
      "|4 4 1 2 3 2|\n",
      "|3 4 2 1 2 1|\n",
      "\n",
      "Can only swap adjacent candies.\n",
      "|3 4 1 2 2 3|\n",
      "|3 3 2 3 4 4|\n",
      "|1 3 2 2 3 2|\n",
      "|4 4 1 2 3 2|\n",
      "|3 4 2 1 2 1|\n",
      "\n"
     ]
    }
   ],
   "source": [
    "action = Action(b)\n",
    "b.fill_random()\n",
    "b.display()\n",
    "print(\"Swapping (0,0) and (0,1)\")\n",
    "action.swap(0,0, 0,1)\n",
    "b.display()\n",
    "print(\"Swapping (0,1) and (0,2)\")\n",
    "action.raw_swap(0,1, 0,2)\n",
    "b.display()\n",
    "\n",
    "# Show what happens when we swap two candies that don't match\n",
    "try: \n",
    "    action.raw_swap(0,4, 0,1)\n",
    "except Exception as e:\n",
    "    print(e)\n",
    "b.display()"
   ]
  },
  {
   "cell_type": "code",
   "execution_count": 14,
   "metadata": {},
   "outputs": [
    {
     "name": "stdout",
     "output_type": "stream",
     "text": [
      "|2 1 2 4 3 4|\n",
      "|3 1 1 3 3 1|\n",
      "|3 3 4 3 2 2|\n",
      "|3 2 3 3 1 2|\n",
      "|4 4 1 1 3 4|\n",
      "\n",
      "something was merged\n",
      "|1 3 2 4 3 4|\n",
      "|4 1 2 3 3 1|\n",
      "|3 3 4 1 2 2|\n",
      "|1 2 3 4 1 2|\n",
      "|4 4 1 1 3 4|\n",
      "\n",
      "Swapping (2,3) and (2,4)\n",
      "No match\n"
     ]
    }
   ],
   "source": [
    "b.empty()\n",
    "b.fill_random()\n",
    "b.display()\n",
    "\n",
    "up=b.update()\n",
    "if up:\n",
    "    print(\"something was merged\")\n",
    "    b.display()\n",
    "\n",
    "\n",
    "\n",
    "print(\"Swapping (2,3) and (2,4)\")\n",
    "sw=action.swap(2,3, 2,4)\n",
    "if sw==False:\n",
    "    print(\"No match\")\n",
    "else:\n",
    "    b.display()\n",
    "    b.update()\n",
    "    print(\"After update\")\n",
    "    b.display()"
   ]
  },
  {
   "cell_type": "markdown",
   "metadata": {},
   "source": [
    "## Tester la vizu (stylééé)\n",
    "\n",
    "Commandes: \n",
    "\n",
    "-clicker pour selectionner le premier candy\n",
    "\n",
    "-Fleches pour selectionner le 2e\n",
    "\n",
    "-s pour générer une nouvelle grille si bloqué\n",
    "\n",
    "-q pour quitter (moi ca marche pas, je dois stopper la cellule dans le notebook)"
   ]
  },
  {
   "cell_type": "code",
   "execution_count": 37,
   "metadata": {},
   "outputs": [],
   "source": [
    "from Viz import *"
   ]
  },
  {
   "cell_type": "code",
   "execution_count": 40,
   "metadata": {},
   "outputs": [
    {
     "ename": "KeyboardInterrupt",
     "evalue": "",
     "output_type": "error",
     "traceback": [
      "\u001b[0;31m---------------------------------------------------------------------------\u001b[0m",
      "\u001b[0;31mKeyboardInterrupt\u001b[0m                         Traceback (most recent call last)",
      "Cell \u001b[0;32mIn[40], line 6\u001b[0m\n\u001b[1;32m      4\u001b[0m b\u001b[38;5;241m.\u001b[39mfill_random()\n\u001b[1;32m      5\u001b[0m v \u001b[38;5;241m=\u001b[39m Viz(b,a)\n\u001b[0;32m----> 6\u001b[0m \u001b[43mv\u001b[49m\u001b[38;5;241;43m.\u001b[39;49m\u001b[43mVisualize\u001b[49m\u001b[43m(\u001b[49m\u001b[43m)\u001b[49m\n",
      "File \u001b[0;32m~/Documents/Stanford/Fall quarter/AA 228/Final Project/CandyCrusher/Viz.py:112\u001b[0m, in \u001b[0;36mViz.Visualize\u001b[0;34m(self)\u001b[0m\n\u001b[1;32m    108\u001b[0m pygame\u001b[38;5;241m.\u001b[39mdisplay\u001b[38;5;241m.\u001b[39mupdate()\n\u001b[1;32m    110\u001b[0m \u001b[38;5;66;03m# 1 second pause\u001b[39;00m\n\u001b[0;32m--> 112\u001b[0m \u001b[43mpygame\u001b[49m\u001b[38;5;241;43m.\u001b[39;49m\u001b[43mtime\u001b[49m\u001b[38;5;241;43m.\u001b[39;49m\u001b[43mdelay\u001b[49m\u001b[43m(\u001b[49m\u001b[38;5;241;43m500\u001b[39;49m\u001b[43m)\u001b[49m\n\u001b[1;32m    114\u001b[0m \u001b[38;5;66;03m# Update board and display\u001b[39;00m\n\u001b[1;32m    116\u001b[0m \u001b[38;5;28mself\u001b[39m\u001b[38;5;241m.\u001b[39mboard\u001b[38;5;241m.\u001b[39mupdate()\n",
      "\u001b[0;31mKeyboardInterrupt\u001b[0m: "
     ]
    }
   ],
   "source": [
    "b = Board(6,7)\n",
    "b.update()\n",
    "a=Action(b)\n",
    "b.fill_random()\n",
    "v = Viz(b,a)\n",
    "v.Visualize()"
   ]
  },
  {
   "cell_type": "code",
   "execution_count": null,
   "metadata": {},
   "outputs": [],
   "source": []
  }
 ],
 "metadata": {
  "kernelspec": {
   "display_name": "base",
   "language": "python",
   "name": "python3"
  },
  "language_info": {
   "codemirror_mode": {
    "name": "ipython",
    "version": 3
   },
   "file_extension": ".py",
   "mimetype": "text/x-python",
   "name": "python",
   "nbconvert_exporter": "python",
   "pygments_lexer": "ipython3",
   "version": "3.12.2"
  }
 },
 "nbformat": 4,
 "nbformat_minor": 2
}
